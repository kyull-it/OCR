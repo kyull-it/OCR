{
 "cells": [
  {
   "cell_type": "markdown",
   "id": "6983de95-906a-4a0c-9a38-23ebd9a86b3f",
   "metadata": {
    "tags": []
   },
   "source": [
    "## Pre-processing Images for OCR\n",
    "https://tesseract-ocr.github.io/tessdoc/ImproveQuality.html#page-segmentation-method\n",
    "1) Inverted Images\n",
    "2) Sharpness\n",
    "2) Rescaling\n",
    "3) Binarization\n",
    "4) Noise Removal\n",
    "5) Dilation and Erosion\n",
    "6) Rotation / Deskewing\n",
    "  https://gist.github.com/endolith/334196bac1cac45a4893#\n",
    "7) Removing Borders\n",
    "8) Missing Borders\n",
    "9) Transparency / Alpha Channel\n",
    "\n",
    "### Page segmentation method\n",
    "  0    Orientation and script detection (OSD) only.<br>\n",
    "  1    Automatic page segmentation with OSD.<br>\n",
    "  2    Automatic page segmentation, but no OSD, or OCR.<br>\n",
    "  3    Fully automatic page segmentation, but no OSD. (Default)<br>\n",
    "  4    Assume a single column of text of variable sizes.<br>\n",
    "  5    Assume a single uniform block of vertically aligned text.<br>\n",
    "  6    Assume a single uniform block of text.<br>\n",
    "  7    Treat the image as a single text line.<br>\n",
    "  8    Treat the image as a single word.<br>\n",
    "  9    Treat the image as a single word in a circle.<br>\n",
    " 10    Treat the image as a single character.<br>\n",
    " 11    Sparse text. Find as much text as possible in no particular order.<br>\n",
    " 12    Sparse text with OSD.<br>\n",
    " 13    Raw line. Treat the image as a single text line, bypassing hacks that are Tesseract-specific."
   ]
  },
  {
   "cell_type": "markdown",
   "id": "3c7efe6c-71ca-4a76-8de6-e022589b5b60",
   "metadata": {},
   "source": [
    "#### ref\n",
    "https://youtu.be/ADV-AjAXHdc"
   ]
  },
  {
   "cell_type": "code",
   "execution_count": 8,
   "id": "d89c5de0",
   "metadata": {},
   "outputs": [],
   "source": [
    "#!pip install Pillow\n",
    "\n",
    "from PIL import Image\n",
    "# import PIL.ImageOps as ops\n",
    "\n",
    "import os"
   ]
  },
  {
   "cell_type": "markdown",
   "id": "a0d53bb2-fcf5-4145-958d-1a9c8753512f",
   "metadata": {},
   "source": [
    "https://www.ytn.co.kr/_cs/_ln_0103_202211022306145466_005.html\n",
    "- 1단의 일반적인 줄글 이미지\n",
    "- 글 이외에 다른 인식할만한 글/그림은 없음"
   ]
  },
  {
   "cell_type": "markdown",
   "id": "56d06044-550d-4738-bb7b-1cbcaa4c8d37",
   "metadata": {},
   "source": [
    "## grayscale"
   ]
  },
  {
   "cell_type": "code",
   "execution_count": 9,
   "id": "7a2e2446-4091-433d-8912-aa7a5a90af11",
   "metadata": {
    "tags": []
   },
   "outputs": [],
   "source": [
    "filename = './test/news_contents.png'\n",
    "# img = Image.open(filename).convert('L')\n",
    "img = Image.open(filename)\n",
    "img.show(title=None)\n",
    "# img.save('./test/news_contents_grayscale.png')"
   ]
  },
  {
   "cell_type": "code",
   "execution_count": null,
   "id": "866beadf-044f-4f21-984a-49af2caba7c4",
   "metadata": {
    "jupyter": {
     "source_hidden": true
    },
    "tags": []
   },
   "outputs": [],
   "source": []
  },
  {
   "cell_type": "markdown",
   "id": "e4076ab1-5155-43fc-840c-9826566fcb0e",
   "metadata": {},
   "source": [
    "## Resize"
   ]
  },
  {
   "cell_type": "markdown",
   "id": "53b3b08e-0c7d-46b1-a4c5-096990791388",
   "metadata": {},
   "source": [
    "회사에서 pyvips코드 옮겨오기"
   ]
  },
  {
   "cell_type": "code",
   "execution_count": 14,
   "id": "03c93d23-5b30-4e1a-ad17-96d1b75893de",
   "metadata": {},
   "outputs": [
    {
     "data": {
      "text/plain": [
       "(1578, 1718)"
      ]
     },
     "execution_count": 14,
     "metadata": {},
     "output_type": "execute_result"
    }
   ],
   "source": [
    "width, height = img.size\n",
    "resized = img.resize((width*2, height*2), Image.Resampling.BILINEAR)\n",
    "# resized.save('./test/news_contents_resized.png')\n",
    "resized.size"
   ]
  },
  {
   "cell_type": "code",
   "execution_count": 11,
   "id": "c45fca32",
   "metadata": {},
   "outputs": [
    {
     "name": "stderr",
     "output_type": "stream",
     "text": [
      "C:\\Users\\kyulldozer\\AppData\\Local\\Temp\\ipykernel_5412\\4158167495.py:1: DeprecationWarning: BILINEAR is deprecated and will be removed in Pillow 10 (2023-07-01). Use Resampling.BILINEAR instead.\n",
      "  respimg1 = ops.scale(img1, 1.5, resample=Image.BILINEAR)\n"
     ]
    }
   ],
   "source": [
    "# respimg1 = ops.scale(img1, 2, resample=Image.BILINEAR)\n",
    "# respimg1.show(title=None)\n",
    "\n",
    "# # factor : >1 is upsampling / 0< <1 is downsampling\n",
    "# # resampling : NEAREST not good!  BICUBIC and BILINEAR are similar"
   ]
  },
  {
   "cell_type": "markdown",
   "id": "1ac596ee-aa8f-434b-8a8f-87cb470acd88",
   "metadata": {},
   "source": [
    "## Blackpoints"
   ]
  },
  {
   "cell_type": "code",
   "execution_count": 15,
   "id": "b0877159-e0b5-449f-80af-7479276ba919",
   "metadata": {},
   "outputs": [],
   "source": [
    "width, height = resized.size\n",
    "pixel_map = resized.load()\n",
    "\n",
    "for i in range(width):\n",
    "    for j in range(height):\n",
    "        \n",
    "        r,g,b = resized.getpixel((i,j))\n",
    "        \n",
    "        if r<50 and g<50 and b<50:\n",
    "            pixel_map[i,j] = (0,0,0)\n",
    "            \n",
    "resized.save('./test/news_contents_blackpoints.png')"
   ]
  },
  {
   "cell_type": "markdown",
   "id": "04f2a968-4b43-4a91-b573-3d8d1ff2c128",
   "metadata": {
    "tags": []
   },
   "source": [
    "## Sharpness"
   ]
  },
  {
   "cell_type": "code",
   "execution_count": 16,
   "id": "de91fe76-b881-4783-a4b4-0202cda9ca8f",
   "metadata": {},
   "outputs": [],
   "source": [
    "from PIL import ImageEnhance\n",
    "enhancer = ImageEnhance.Sharpness(resized)\n",
    "sharp = enhancer.enhance(2)\n",
    "sharp.save('./test/news_contents_sharpness.png')"
   ]
  },
  {
   "cell_type": "markdown",
   "id": "eabb312a-edd7-4bf0-bc9f-0f8033cfd0e0",
   "metadata": {
    "jp-MarkdownHeadingCollapsed": true,
    "tags": []
   },
   "source": [
    "## Excute 1\n",
    "- 아무 전처리도 하지않고, tesseract 실행한 결과\n",
    "- 약간의 오타빼고 95% 정확한 결과"
   ]
  },
  {
   "cell_type": "code",
   "execution_count": 4,
   "id": "e425fa52",
   "metadata": {},
   "outputs": [
    {
     "data": {
      "text/plain": [
       "0"
      ]
     },
     "execution_count": 4,
     "metadata": {},
     "output_type": "execute_result"
    }
   ],
   "source": [
    "os.system(\"tesseract D:/Code/ocr/test/news_contents.png D:/Code/ocr/test/news_contents1.txt -l kor --psm 4\")"
   ]
  },
  {
   "cell_type": "markdown",
   "id": "50e38ab5-cfde-4b43-8a68-605b359fb212",
   "metadata": {
    "jp-MarkdownHeadingCollapsed": true,
    "tags": []
   },
   "source": [
    "## Excute 2\n",
    "- 정확도 100%를 만들기 위한\n",
    "- grayscale 이미지로 tesseract 실행한 결과\n",
    "- Excute 1과 비슷"
   ]
  },
  {
   "cell_type": "code",
   "execution_count": 9,
   "id": "cda141fa-7bb8-4168-8d0e-291bf757223f",
   "metadata": {
    "tags": []
   },
   "outputs": [
    {
     "data": {
      "text/plain": [
       "0"
      ]
     },
     "execution_count": 9,
     "metadata": {},
     "output_type": "execute_result"
    }
   ],
   "source": [
    "os.system(\"tesseract D:/Code/ocr/test/news_contents_grayscale.png D:/Code/ocr/test/news_contents2.txt -l kor --psm 4\")"
   ]
  },
  {
   "cell_type": "markdown",
   "id": "3b9f3095-144e-404f-ae04-f671df5ba6e7",
   "metadata": {
    "jp-MarkdownHeadingCollapsed": true,
    "tags": []
   },
   "source": [
    "## Excute 3\n",
    "- 정확도 100%를 만들기 위한\n",
    "- grayscale, resize 2배한 이미지로 tesseract 실행한 결과\n",
    "- 98% 정확"
   ]
  },
  {
   "cell_type": "code",
   "execution_count": 20,
   "id": "b99887ff-ca18-4b92-b641-43bb66c05418",
   "metadata": {},
   "outputs": [
    {
     "data": {
      "text/plain": [
       "0"
      ]
     },
     "execution_count": 20,
     "metadata": {},
     "output_type": "execute_result"
    }
   ],
   "source": [
    "os.system(\"tesseract D:/Code/ocr/test/news_contents_resized.png D:/Code/ocr/test/news_contents3.txt -l kor --psm 4\")"
   ]
  },
  {
   "cell_type": "markdown",
   "id": "b9c904ee-eee2-482f-b051-6f48ab0526cc",
   "metadata": {
    "tags": []
   },
   "source": [
    "## Excute 4\n",
    "- 정확도 100%를 만들기 위한\n",
    "- grayscale, resize 2배, sharpness 2.0한 이미지로 tesseract 실행한 결과\n",
    "- 오히려 역효과  96%로 줄어듬"
   ]
  },
  {
   "cell_type": "code",
   "execution_count": 28,
   "id": "c8dc2b15-fe4f-44e1-ad14-ed8594481dd9",
   "metadata": {},
   "outputs": [
    {
     "data": {
      "text/plain": [
       "0"
      ]
     },
     "execution_count": 28,
     "metadata": {},
     "output_type": "execute_result"
    }
   ],
   "source": [
    "os.system(\"tesseract D:/Code/ocr/test/news_contents_sharpness.png D:/Code/ocr/test/news_contents4.txt -l kor --psm 4\")"
   ]
  },
  {
   "cell_type": "markdown",
   "id": "26471867-e419-4357-b0a6-0fb6fac67ec2",
   "metadata": {},
   "source": [
    "## Excute 5\n",
    "- 블랙포인트(6), sharpness(5) 둘다 효과 없음"
   ]
  },
  {
   "cell_type": "code",
   "execution_count": 18,
   "id": "7d40079c-16e4-4d8d-9b5f-5f535e0ce658",
   "metadata": {},
   "outputs": [
    {
     "data": {
      "text/plain": [
       "0"
      ]
     },
     "execution_count": 18,
     "metadata": {},
     "output_type": "execute_result"
    }
   ],
   "source": [
    "os.system(\"tesseract D:/Code/ocr/test/news_contents_blackpoints.png D:/Code/ocr/test/news_contents.txt -l kor --psm 4\")"
   ]
  },
  {
   "cell_type": "code",
   "execution_count": null,
   "id": "89160a91-401b-4eb1-9137-4a90be7b1ab7",
   "metadata": {},
   "outputs": [],
   "source": []
  }
 ],
 "metadata": {
  "kernelspec": {
   "display_name": "Python 3 (ipykernel)",
   "language": "python",
   "name": "python3"
  },
  "language_info": {
   "codemirror_mode": {
    "name": "ipython",
    "version": 3
   },
   "file_extension": ".py",
   "mimetype": "text/x-python",
   "name": "python",
   "nbconvert_exporter": "python",
   "pygments_lexer": "ipython3",
   "version": "3.10.6"
  }
 },
 "nbformat": 4,
 "nbformat_minor": 5
}
